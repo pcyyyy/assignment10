{
 "cells": [
  {
   "cell_type": "markdown",
   "metadata": {},
   "source": [
    "#  This is assignment10"
   ]
  },
  {
   "cell_type": "markdown",
   "metadata": {},
   "source": [
    "# Name:PENG CIYUAN "
   ]
  },
  {
   "cell_type": "markdown",
   "metadata": {},
   "source": [
    "# Student ID:2018220161 "
   ]
  },
  {
   "cell_type": "markdown",
   "metadata": {},
   "source": [
    "#  Link:https://github.com/pcyyyy/assignment10.git"
   ]
  },
  {
   "cell_type": "markdown",
   "metadata": {},
   "source": [
    "# Getting train data and test data "
   ]
  },
  {
   "cell_type": "code",
   "execution_count": 1,
   "metadata": {},
   "outputs": [],
   "source": [
    "import matplotlib.pyplot as plt\n",
    "import numpy as np\n",
    "from scipy import signal\n",
    "from sklearn.metrics import confusion_matrix\n",
    "file_data_train = \"mnist_train.csv\"\n",
    "file_data_test  = \"mnist_test.csv\"\n",
    "\n",
    "h_data_train    = open(file_data_train, \"r\")\n",
    "h_data_test     = open(file_data_test, \"r\")\n",
    "\n",
    "data_train      = h_data_train.readlines()\n",
    "data_test       = h_data_test.readlines()\n",
    "\n",
    "h_data_train.close()\n",
    "h_data_test.close()\n",
    "\n",
    "size_row    = 28    # height of the image\n",
    "size_col    = 28    # width of the image\n",
    "\n",
    "num_train   = len(data_train)   # number of training images\n",
    "num_test    = len(data_test)    # number of testing images\n",
    "\n",
    "\n",
    "#\n",
    "# normalize the values of the input data to be [0, 1]\n",
    "#\n",
    "def normalize(data):\n",
    "\n",
    "    data_normalized = (data - min(data)) / (max(data) - min(data))\n",
    "\n",
    "    return(data_normalized)\n",
    "\n",
    "#\n",
    "# example of distance function between two vectors x and y\n",
    "#\n",
    "def distance(x, y):\n",
    "\n",
    "    d = (x - y) ** 2\n",
    "    s = np.sum(d)\n",
    "    # r = np.sqrt(s)\n",
    "\n",
    "    return(s)\n",
    "\n",
    "#\n",
    "# make a matrix each column of which represents an images in a vector form \n",
    "#\n",
    "list_image_train    = np.empty((size_row * size_col, num_train), dtype=float)\n",
    "list_label_train    = np.empty(num_train, dtype=int)\n",
    "\n",
    "list_image_test     = np.empty((size_row * size_col, num_test), dtype=float)\n",
    "list_label_test     = np.empty(num_test, dtype=int)\n",
    "\n",
    "count = 0\n",
    "\n",
    "for line in data_train:\n",
    "\n",
    "    line_data   = line.split(',')\n",
    "    label       = line_data[0]\n",
    "    im_vector   = np.asfarray(line_data[1:])\n",
    "    im_vector   = normalize(im_vector)\n",
    "\n",
    "    list_label_train[count]     = label\n",
    "    list_image_train[:, count]  = im_vector    \n",
    "\n",
    "\n",
    "\n",
    "    count += 1\n",
    "\n",
    "count = 0\n",
    "\n",
    "for line in data_test:\n",
    "\n",
    "    line_data   = line.split(',')\n",
    "    label       = line_data[0]\n",
    "    im_vector   = np.asfarray(line_data[1:])\n",
    "    im_vector   = normalize(im_vector)\n",
    "\n",
    "    list_label_test[count]      = label\n",
    "    list_image_test[:, count]   = im_vector    \n",
    "\n",
    "    count += 1\n"
   ]
  },
  {
   "cell_type": "markdown",
   "metadata": {},
   "source": [
    "# define function to get R"
   ]
  },
  {
   "cell_type": "code",
   "execution_count": 2,
   "metadata": {},
   "outputs": [],
   "source": [
    "def Matrix(p):\n",
    "    R=[]\n",
    "    for i in range(p):\n",
    "        r = np.random.normal(0,1,784)\n",
    "        R.append(r)\n",
    "    R= np.array(R)\n",
    "    R = R.T\n",
    "    return R\n",
    "        "
   ]
  },
  {
   "cell_type": "markdown",
   "metadata": {},
   "source": [
    "# Compute the weight A,B"
   ]
  },
  {
   "cell_type": "code",
   "execution_count": 3,
   "metadata": {},
   "outputs": [],
   "source": [
    "R = Matrix(27)\n",
    "trainX = np.matmul(list_image_train.T,R)\n",
    "trainY = list_label_train\n",
    "A1=np.linalg.inv((trainX.T).dot(trainX)) \n",
    "A2=(trainX.T).dot(trainY) \n",
    "A=(A1).dot(A2) \n",
    "RR = Matrix(50)\n",
    "trainX1 = np.matmul(list_image_train.T,RR)\n",
    "trainY1 = list_label_train\n",
    "B1=np.linalg.inv((trainX1.T).dot(trainX1)) \n",
    "B2=(trainX1.T).dot(trainY1) \n",
    "B=(B1).dot(B2)"
   ]
  },
  {
   "cell_type": "markdown",
   "metadata": {},
   "source": [
    "# Get classification result"
   ]
  },
  {
   "cell_type": "code",
   "execution_count": 4,
   "metadata": {},
   "outputs": [],
   "source": [
    "testX = np.matmul(list_image_test.T,R)\n",
    "result =np.dot(testX,A)\n",
    "testX1 = np.matmul(list_image_test.T,RR)\n",
    "result1 =np.dot(testX1,B)"
   ]
  },
  {
   "cell_type": "markdown",
   "metadata": {},
   "source": [
    "# Present confusion matrix M"
   ]
  },
  {
   "cell_type": "code",
   "execution_count": 5,
   "metadata": {},
   "outputs": [
    {
     "name": "stdout",
     "output_type": "stream",
     "text": [
      "[[218 230 262 162  67  30   7   4   0   0   0]\n",
      " [ 59 222 415 288 103  36   9   2   1   0   0]\n",
      " [114 165 227 224 168  79  42  10   3   0   0]\n",
      " [ 50 125 198 204 196 125  64  29   9   7   3]\n",
      " [  1  15  64 120 212 236 182  97  42  11   2]\n",
      " [ 20  49 114 218 222 149  82  28   7   3   0]\n",
      " [ 36  63 140 212 238 185  62  16   5   1   0]\n",
      " [  3   8  37  95 156 243 226 158  67  25  10]\n",
      " [  4  13  42  94 166 171 208 141  92  24  19]\n",
      " [  1   7  32  90 161 244 231 144  76  21   2]\n",
      " [  0   0   0   0   0   0   0   0   0   0   0]]\n",
      "[[330 259 189 104  60  25   6   5   2   0   0   0   0   0]\n",
      " [137 341 365 196  67  19   7   3   0   0   0   0   0   0]\n",
      " [127 190 246 231 138  66  25   6   1   1   1   0   0   0]\n",
      " [ 35 117 265 279 152  91  41  17   6   4   3   0   0   0]\n",
      " [  2  12  38 108 186 302 202  83  40   6   3   0   0   0]\n",
      " [ 19  62 125 208 209 158  71  26  13   0   1   0   0   0]\n",
      " [ 17  48  83 150 189 192 156  90  30   3   0   0   0   0]\n",
      " [  2  16  49 111 168 209 200 155  75  29  14   0   0   0]\n",
      " [  1  13  38  73 169 172 211 152  84  40  15   4   1   1]\n",
      " [  1   5  22  41  67 185 255 219 130  66  12   6   0   0]\n",
      " [  0   0   0   0   0   0   0   0   0   0   0   0   0   0]\n",
      " [  0   0   0   0   0   0   0   0   0   0   0   0   0   0]\n",
      " [  0   0   0   0   0   0   0   0   0   0   0   0   0   0]\n",
      " [  0   0   0   0   0   0   0   0   0   0   0   0   0   0]]\n"
     ]
    }
   ],
   "source": [
    "def resultandY(result, list_label_test): \n",
    "    m = [] \n",
    "    Y = [] \n",
    "    for i in range(len(result)): \n",
    "        m.append(abs(int(result[i]))) \n",
    "        Y.append(list_label_test[i])\n",
    "    for i in range(len(result)): \n",
    "        for j in range(10,19): \n",
    "            if result[i] == j: \n",
    "                result[i] = j-10 \n",
    "    return Y, m\n",
    "Y, result = resultandY(result,list_label_test) \n",
    "M = confusion_matrix(Y,result)\n",
    "print(M)\n",
    "Y, result1 = resultandY(result1,list_label_test) \n",
    "M1 = confusion_matrix(Y,result1)\n",
    "print(M1)"
   ]
  },
  {
   "cell_type": "markdown",
   "metadata": {},
   "source": [
    "# Present the F1 score"
   ]
  },
  {
   "cell_type": "code",
   "execution_count": 7,
   "metadata": {},
   "outputs": [
    {
     "name": "stdout",
     "output_type": "stream",
     "text": [
      "0.3004824259131634\n"
     ]
    }
   ],
   "source": [
    "for i in range(10):\n",
    "    n = 0\n",
    "    k = 0\n",
    "    FN = 0\n",
    "    while n<9:\n",
    "        FN = FN+M[i][n]\n",
    "        n+=1\n",
    "    FN = FN - M[i][i]\n",
    "    TP = M[0][0]\n",
    "    FP = 0\n",
    "    while k<9:\n",
    "        FP = FP+M[k][i]\n",
    "        k+=1\n",
    "    FP = FP - M[k][i]\n",
    "    P = TP/ (TP + FP) \n",
    "    R =  TP/(TP + FN)\n",
    "    F1 = (2 * P * R) / (P + R) \n",
    "    \n",
    "print(F1)  \n"
   ]
  },
  {
   "cell_type": "code",
   "execution_count": null,
   "metadata": {},
   "outputs": [],
   "source": []
  }
 ],
 "metadata": {
  "kernelspec": {
   "display_name": "Python 3",
   "language": "python",
   "name": "python3"
  },
  "language_info": {
   "codemirror_mode": {
    "name": "ipython",
    "version": 3
   },
   "file_extension": ".py",
   "mimetype": "text/x-python",
   "name": "python",
   "nbconvert_exporter": "python",
   "pygments_lexer": "ipython3",
   "version": "3.6.5"
  }
 },
 "nbformat": 4,
 "nbformat_minor": 2
}
